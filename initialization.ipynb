{
  "nbformat": 4,
  "nbformat_minor": 0,
  "metadata": {
    "colab": {
      "provenance": [],
      "authorship_tag": "ABX9TyO9aqNrSsPSSPFfp5Jp+wuj",
      "include_colab_link": true
    },
    "kernelspec": {
      "name": "python3",
      "display_name": "Python 3"
    },
    "language_info": {
      "name": "python"
    }
  },
  "cells": [
    {
      "cell_type": "markdown",
      "metadata": {
        "id": "view-in-github",
        "colab_type": "text"
      },
      "source": [
        "<a href=\"https://colab.research.google.com/github/mlragland/casehold_transformers/blob/main/initialization.ipynb\" target=\"_parent\"><img src=\"https://colab.research.google.com/assets/colab-badge.svg\" alt=\"Open In Colab\"/></a>"
      ]
    },
    {
      "cell_type": "markdown",
      "source": [
        "# Title: Initializing the Environment for Zero-shot MCQA Evaluation with Legal Pretrained Transformer Models using LexGLUE CaseHold Benchmark\n",
        "\n",
        "## Introduction:\n",
        "\n",
        "This notebook serves as the initialization step for our exploration into Zero-shot Multiple Choice Question Answering (MCQA) Evaluation leveraging legal domain Pretrained Transformer Models. Our analysis utilizes the LexGLUE CaseHold benchmark dataset, which is a significant resource in evaluating model performance on legal textual data.\n",
        "\n",
        "Our endeavor is inspired and builds upon the seminal work presented in the paper \"When Does Pretraining Help? Assessing Self-Supervised Learning for Law and the CaseHOLD Dataset\" by Lucia Zheng et al. The insights and findings from this paper provide a valuable foundation for our exploration.\n",
        "\n",
        "Within this notebook, we establish the primary environment required for our further experimentation and analysis. The code herein ensures that all necessary base files, stored in the associated repository, are correctly set up. This setup is crucial for the subsequent phases of our project where we delve deeper into model evaluation and analysis to uncover the potential and limitations of Transformer models in legal MCQA tasks.\n",
        "\n",
        "The initialized environment herein is the stepping stone towards a comprehensive analysis, ensuring that all requisite data and configurations are accurately in place."
      ],
      "metadata": {
        "id": "Lvt7bv_byap4"
      }
    },
    {
      "cell_type": "markdown",
      "source": [
        "## Environment Setup\n",
        "- **Platform**: Google Colaboratory (Colab) with a T4 GPU is utilized for code execution, experimentation, and evaluation.\n",
        "- **Libraries**: Dependencies are managed through a `requirements.txt` file to ensure reproducibility.\n",
        "- **Storage**: Google Drive is mounted for file storage, with additional files accessible from the [GitHub repository](https://github.com/mlragland/casehold_transformers).\n",
        "\n",
        "The first steps will be done one time to set up the environment, data, and to copy files form collaboratory repositories.  \n"
      ],
      "metadata": {
        "id": "S0tTEofKUPZQ"
      }
    },
    {
      "cell_type": "markdown",
      "source": [
        "NOTE THE FILE HAS BEEN REDACTED TO PROTECT SENSITIVE INFORMATION FEEL FREE TO UPDATE WITH YOUR PERSONAL CREDENTIALS"
      ],
      "metadata": {
        "id": "6-9612v84LA4"
      }
    },
    {
      "cell_type": "code",
      "source": [
        "# Mount the Google\n",
        "# Mount Google Drive:\n",
        "from google.colab import drive\n",
        "drive.mount( path://'')"
      ],
      "metadata": {
        "colab": {
          "base_uri": "https://localhost:8080/"
        },
        "id": "ffX3-dpBh63Y",
        "outputId": "e403d50e-0a89-47df-dd0c-37a217c2cc0e"
      },
      "execution_count": null,
      "outputs": [
        {
          "output_type": "stream",
          "name": "stdout",
          "text": [
            "Mounted at /content/drive\n"
          ]
        }
      ]
    },
    {
      "cell_type": "code",
      "source": [
        "#######################################################################"
      ],
      "metadata": {
        "id": "u6Y-zNFwKTh4"
      },
      "execution_count": null,
      "outputs": []
    },
    {
      "cell_type": "code",
      "source": [
        "# Clone the Casehold_Transformers repo:\n",
        "!git clone https://token@github.com/username/casehold_transformers.git"
      ],
      "metadata": {
        "colab": {
          "base_uri": "https://localhost:8080/"
        },
        "id": "qHHkuGrnKa3D",
        "outputId": "e69ff4e2-45df-4af2-df29-0081142c566f"
      },
      "execution_count": null,
      "outputs": [
        {
          "output_type": "stream",
          "name": "stdout",
          "text": [
            "Cloning into 'casehold_transformers'...\n",
            "remote: Enumerating objects: 3, done.\u001b[K\n",
            "remote: Counting objects: 100% (3/3), done.\u001b[K\n",
            "remote: Compressing objects: 100% (2/2), done.\u001b[K\n",
            "remote: Total 3 (delta 0), reused 0 (delta 0), pack-reused 0\u001b[K\n",
            "Receiving objects: 100% (3/3), done.\n"
          ]
        }
      ]
    },
    {
      "cell_type": "code",
      "source": [
        "# Change directory to the cloned repository\n",
        "%cd /content/casehold_transformers"
      ],
      "metadata": {
        "colab": {
          "base_uri": "https://localhost:8080/"
        },
        "id": "-vV5mg0dXcEB",
        "outputId": "a3579d56-d738-4815-e356-000e8939d242"
      },
      "execution_count": null,
      "outputs": [
        {
          "output_type": "stream",
          "name": "stdout",
          "text": [
            "/content/casehold_transformers\n"
          ]
        }
      ]
    },
    {
      "cell_type": "code",
      "source": [
        "#Step 2: Initialize Git in your Google Colab Environment\n",
        "# Configure Git (this is okay as it's a global configuration)\n",
        "!git config --global user.email \"email\"\n",
        "!git config --global user.name \"username\""
      ],
      "metadata": {
        "id": "M4g3aTewVQwP"
      },
      "execution_count": null,
      "outputs": []
    },
    {
      "cell_type": "code",
      "source": [
        "# Step 3: Copy the files from Google Drive to the cloned GitHub repository\n",
        "!cp -r /content/drive/MyDrive/casehold_transformers/* /content/casehold_transformers/"
      ],
      "metadata": {
        "id": "0X4p8MQcVkem"
      },
      "execution_count": null,
      "outputs": []
    },
    {
      "cell_type": "code",
      "source": [
        "# Step 4: Commit the files\n",
        "!git add .\n",
        "!git commit -m \"Initial commit of all files from Google Drive\""
      ],
      "metadata": {
        "colab": {
          "base_uri": "https://localhost:8080/"
        },
        "id": "nS2uU0w2gOGn",
        "outputId": "321cf80f-87de-46d7-8eaa-6763915c533e"
      },
      "execution_count": null,
      "outputs": [
        {
          "output_type": "stream",
          "name": "stdout",
          "text": [
            "[main 8fc935d] Initial commit of all files from Google Drive\n",
            " 10 files changed, 1679 insertions(+)\n",
            " create mode 100644 case_ids/pretrain_ids.json\n",
            " create mode 100644 case_ids/task_ids.json\n",
            " create mode 100644 casehold.py\n",
            " create mode 100644 classification/run_glue.py\n",
            " create mode 100644 demo.ipynb\n",
            " create mode 100644 figures/hyperparameters.png\n",
            " create mode 100644 figures/results.png\n",
            " create mode 100644 multiple_choice/run_multiple_choice.py\n",
            " create mode 100644 multiple_choice/utils_multiple_choice.py\n",
            " create mode 100644 requirements.txt\n"
          ]
        }
      ]
    },
    {
      "cell_type": "code",
      "source": [
        "# Step 5: Push the changes to GitHub\n",
        "# Note: The remote 'origin' should already be set from the clone command\n",
        "!git push origin main  # Ensure 'main' is the correct branch name"
      ],
      "metadata": {
        "colab": {
          "base_uri": "https://localhost:8080/"
        },
        "id": "wyjHR2H_gVUe",
        "outputId": "83ae31cc-6c88-4521-886d-18ab91061526"
      },
      "execution_count": null,
      "outputs": [
        {
          "output_type": "stream",
          "name": "stdout",
          "text": [
            "Enumerating objects: 17, done.\n",
            "Counting objects:   5% (1/17)\rCounting objects:  11% (2/17)\rCounting objects:  17% (3/17)\rCounting objects:  23% (4/17)\rCounting objects:  29% (5/17)\rCounting objects:  35% (6/17)\rCounting objects:  41% (7/17)\rCounting objects:  47% (8/17)\rCounting objects:  52% (9/17)\rCounting objects:  58% (10/17)\rCounting objects:  64% (11/17)\rCounting objects:  70% (12/17)\rCounting objects:  76% (13/17)\rCounting objects:  82% (14/17)\rCounting objects:  88% (15/17)\rCounting objects:  94% (16/17)\rCounting objects: 100% (17/17)\rCounting objects: 100% (17/17), done.\n",
            "Delta compression using up to 2 threads\n",
            "Compressing objects: 100% (15/15), done.\n",
            "Writing objects: 100% (16/16), 10.76 MiB | 2.89 MiB/s, done.\n",
            "Total 16 (delta 1), reused 0 (delta 0), pack-reused 0\n",
            "remote: Resolving deltas: 100% (1/1), done.\u001b[K\n",
            "To https://github.com/mlragland/casehold_transformers.git\n",
            "   e8f2656..8fc935d  main -> main\n"
          ]
        }
      ]
    },
    {
      "cell_type": "markdown",
      "source": [
        "Note:\n",
        "\n",
        "If your repository on GitHub was initialized with a README or other files, you may need to pull these down first before pushing your local commits by running git pull origin main.\n",
        "If this is a brand new repository on GitHub without any files, you should be able to push without pulling first.\n",
        "The -u flag in the git push command is only needed the first time you push. It sets up the local main branch to track the main branch on the remote repository, which makes subsequent pushes simpler."
      ],
      "metadata": {
        "id": "PLHERB9w1AkK"
      }
    },
    {
      "cell_type": "code",
      "source": [
        "#######################################################################"
      ],
      "metadata": {
        "id": "iOkafgYjKXBV"
      },
      "execution_count": null,
      "outputs": []
    }
  ]
}